{
 "cells": [
  {
   "cell_type": "code",
   "execution_count": 1,
   "id": "ded63f1a",
   "metadata": {},
   "outputs": [
    {
     "name": "stdout",
     "output_type": "stream",
     "text": [
      "Requirement already satisfied: pandas in /Users/ryanmarshall/opt/anaconda3/envs/PythonData/lib/python3.9/site-packages (1.5.0)\n",
      "Requirement already satisfied: pytz>=2020.1 in /Users/ryanmarshall/opt/anaconda3/envs/PythonData/lib/python3.9/site-packages (from pandas) (2022.4)\n",
      "Requirement already satisfied: python-dateutil>=2.8.1 in /Users/ryanmarshall/opt/anaconda3/envs/PythonData/lib/python3.9/site-packages (from pandas) (2.8.2)\n",
      "Requirement already satisfied: numpy>=1.20.3 in /Users/ryanmarshall/opt/anaconda3/envs/PythonData/lib/python3.9/site-packages (from pandas) (1.23.3)\n",
      "Requirement already satisfied: six>=1.5 in /Users/ryanmarshall/opt/anaconda3/envs/PythonData/lib/python3.9/site-packages (from python-dateutil>=2.8.1->pandas) (1.16.0)\n",
      "Note: you may need to restart the kernel to use updated packages.\n"
     ]
    }
   ],
   "source": [
    "pip install pandas\n"
   ]
  },
  {
   "cell_type": "code",
   "execution_count": 5,
   "id": "98f1ccf1",
   "metadata": {},
   "outputs": [],
   "source": [
    "import pandas as pd\n",
    "import os"
   ]
  },
  {
   "cell_type": "code",
   "execution_count": 6,
   "id": "1e878471",
   "metadata": {},
   "outputs": [],
   "source": [
    "student_data = os.path.join('..', 'Resources', 'new_student_data.csv')\n",
    "student_df = pd.read_csv(student_data)"
   ]
  },
  {
   "cell_type": "code",
   "execution_count": 3,
   "id": "78c7582c",
   "metadata": {},
   "outputs": [],
   "source": [
    "student_data = os.path.join('../Resources/new_student_data.csv')\n",
    "student_df = pd.read_csv(student_data)"
   ]
  },
  {
   "cell_type": "code",
   "execution_count": 7,
   "id": "ad8e8348",
   "metadata": {},
   "outputs": [
    {
     "data": {
      "text/html": [
       "<div>\n",
       "<style scoped>\n",
       "    .dataframe tbody tr th:only-of-type {\n",
       "        vertical-align: middle;\n",
       "    }\n",
       "\n",
       "    .dataframe tbody tr th {\n",
       "        vertical-align: top;\n",
       "    }\n",
       "\n",
       "    .dataframe thead th {\n",
       "        text-align: right;\n",
       "    }\n",
       "</style>\n",
       "<table border=\"1\" class=\"dataframe\">\n",
       "  <thead>\n",
       "    <tr style=\"text-align: right;\">\n",
       "      <th></th>\n",
       "      <th>student_id</th>\n",
       "      <th>student_name</th>\n",
       "      <th>grade</th>\n",
       "      <th>school_name</th>\n",
       "      <th>reading_score</th>\n",
       "      <th>math_score</th>\n",
       "      <th>school_type</th>\n",
       "    </tr>\n",
       "  </thead>\n",
       "  <tbody>\n",
       "    <tr>\n",
       "      <th>0</th>\n",
       "      <td>127008367</td>\n",
       "      <td>Sarah Douglas</td>\n",
       "      <td>11th</td>\n",
       "      <td>Chang High School</td>\n",
       "      <td>87.2</td>\n",
       "      <td>64.1</td>\n",
       "      <td>Public</td>\n",
       "    </tr>\n",
       "    <tr>\n",
       "      <th>1</th>\n",
       "      <td>33365505</td>\n",
       "      <td>Francisco Osborne</td>\n",
       "      <td>9th</td>\n",
       "      <td>Fisher High School</td>\n",
       "      <td>NaN</td>\n",
       "      <td>NaN</td>\n",
       "      <td>Public</td>\n",
       "    </tr>\n",
       "    <tr>\n",
       "      <th>2</th>\n",
       "      <td>44359500</td>\n",
       "      <td>Ryan Haas</td>\n",
       "      <td>12th</td>\n",
       "      <td>Campbell High School</td>\n",
       "      <td>91.6</td>\n",
       "      <td>54.7</td>\n",
       "      <td>Public</td>\n",
       "    </tr>\n",
       "    <tr>\n",
       "      <th>3</th>\n",
       "      <td>24791243</td>\n",
       "      <td>Kathryn Mack</td>\n",
       "      <td>11th</td>\n",
       "      <td>Richard High School</td>\n",
       "      <td>68.9</td>\n",
       "      <td>73.3</td>\n",
       "      <td>Charter</td>\n",
       "    </tr>\n",
       "    <tr>\n",
       "      <th>4</th>\n",
       "      <td>121467881</td>\n",
       "      <td>Harold Reynolds</td>\n",
       "      <td>12th</td>\n",
       "      <td>Chang High School</td>\n",
       "      <td>68.7</td>\n",
       "      <td>43.4</td>\n",
       "      <td>Public</td>\n",
       "    </tr>\n",
       "    <tr>\n",
       "      <th>...</th>\n",
       "      <td>...</td>\n",
       "      <td>...</td>\n",
       "      <td>...</td>\n",
       "      <td>...</td>\n",
       "      <td>...</td>\n",
       "      <td>...</td>\n",
       "      <td>...</td>\n",
       "    </tr>\n",
       "    <tr>\n",
       "      <th>13935</th>\n",
       "      <td>32277979</td>\n",
       "      <td>Kelly Myers</td>\n",
       "      <td>10th</td>\n",
       "      <td>Sullivan High School</td>\n",
       "      <td>62.3</td>\n",
       "      <td>37.9</td>\n",
       "      <td>Public</td>\n",
       "    </tr>\n",
       "    <tr>\n",
       "      <th>13936</th>\n",
       "      <td>109412748</td>\n",
       "      <td>Kimberly Burke</td>\n",
       "      <td>10th</td>\n",
       "      <td>Montgomery High School</td>\n",
       "      <td>99.5</td>\n",
       "      <td>89.8</td>\n",
       "      <td>Public</td>\n",
       "    </tr>\n",
       "    <tr>\n",
       "      <th>13937</th>\n",
       "      <td>16856426</td>\n",
       "      <td>Crystal Merritt</td>\n",
       "      <td>9th</td>\n",
       "      <td>Turner High School</td>\n",
       "      <td>86.3</td>\n",
       "      <td>71.1</td>\n",
       "      <td>Public</td>\n",
       "    </tr>\n",
       "    <tr>\n",
       "      <th>13938</th>\n",
       "      <td>88213835</td>\n",
       "      <td>Misty Wiggins</td>\n",
       "      <td>10th</td>\n",
       "      <td>Fisher High School</td>\n",
       "      <td>75.4</td>\n",
       "      <td>76.4</td>\n",
       "      <td>Public</td>\n",
       "    </tr>\n",
       "    <tr>\n",
       "      <th>13939</th>\n",
       "      <td>12153644</td>\n",
       "      <td>Michele Jones</td>\n",
       "      <td>11th</td>\n",
       "      <td>Chang High School</td>\n",
       "      <td>69.0</td>\n",
       "      <td>72.4</td>\n",
       "      <td>Public</td>\n",
       "    </tr>\n",
       "  </tbody>\n",
       "</table>\n",
       "<p>13940 rows × 7 columns</p>\n",
       "</div>"
      ],
      "text/plain": [
       "       student_id       student_name grade             school_name  \\\n",
       "0       127008367      Sarah Douglas  11th       Chang High School   \n",
       "1        33365505  Francisco Osborne   9th      Fisher High School   \n",
       "2        44359500          Ryan Haas  12th    Campbell High School   \n",
       "3        24791243       Kathryn Mack  11th     Richard High School   \n",
       "4       121467881    Harold Reynolds  12th       Chang High School   \n",
       "...           ...                ...   ...                     ...   \n",
       "13935    32277979        Kelly Myers  10th    Sullivan High School   \n",
       "13936   109412748     Kimberly Burke  10th  Montgomery High School   \n",
       "13937    16856426    Crystal Merritt   9th      Turner High School   \n",
       "13938    88213835      Misty Wiggins  10th      Fisher High School   \n",
       "13939    12153644      Michele Jones  11th       Chang High School   \n",
       "\n",
       "       reading_score  math_score school_type  \n",
       "0               87.2        64.1      Public  \n",
       "1                NaN         NaN      Public  \n",
       "2               91.6        54.7      Public  \n",
       "3               68.9        73.3     Charter  \n",
       "4               68.7        43.4      Public  \n",
       "...              ...         ...         ...  \n",
       "13935           62.3        37.9      Public  \n",
       "13936           99.5        89.8      Public  \n",
       "13937           86.3        71.1      Public  \n",
       "13938           75.4        76.4      Public  \n",
       "13939           69.0        72.4      Public  \n",
       "\n",
       "[13940 rows x 7 columns]"
      ]
     },
     "execution_count": 7,
     "metadata": {},
     "output_type": "execute_result"
    }
   ],
   "source": [
    "student_df"
   ]
  },
  {
   "cell_type": "code",
   "execution_count": 8,
   "id": "252ab4f0",
   "metadata": {},
   "outputs": [
    {
     "data": {
      "text/plain": [
       "0        127008367\n",
       "1         33365505\n",
       "2         44359500\n",
       "3         24791243\n",
       "4        121467881\n",
       "           ...    \n",
       "13935     32277979\n",
       "13936    109412748\n",
       "13937     16856426\n",
       "13938     88213835\n",
       "13939     12153644\n",
       "Name: student_id, Length: 13940, dtype: int64"
      ]
     },
     "execution_count": 8,
     "metadata": {},
     "output_type": "execute_result"
    }
   ],
   "source": [
    "student_df['student_id']"
   ]
  },
  {
   "cell_type": "code",
   "execution_count": 9,
   "id": "e1a35e3e",
   "metadata": {},
   "outputs": [
    {
     "data": {
      "text/plain": [
       "0            Sarah Douglas\n",
       "1        Francisco Osborne\n",
       "2                Ryan Haas\n",
       "3             Kathryn Mack\n",
       "4          Harold Reynolds\n",
       "               ...        \n",
       "13935          Kelly Myers\n",
       "13936       Kimberly Burke\n",
       "13937      Crystal Merritt\n",
       "13938        Misty Wiggins\n",
       "13939        Michele Jones\n",
       "Name: student_name, Length: 13940, dtype: object"
      ]
     },
     "execution_count": 9,
     "metadata": {},
     "output_type": "execute_result"
    }
   ],
   "source": [
    "student_df['student_name']"
   ]
  },
  {
   "cell_type": "code",
   "execution_count": 10,
   "id": "e3918966",
   "metadata": {},
   "outputs": [],
   "source": [
    "import pandas as pd\n",
    "import os"
   ]
  },
  {
   "cell_type": "code",
   "execution_count": 11,
   "id": "8b4206a2",
   "metadata": {},
   "outputs": [],
   "source": [
    "student_data = os.path.join('../Resources/new_student_data.csv')\n",
    "student_df = pd.read_csv(student_data)"
   ]
  },
  {
   "cell_type": "code",
   "execution_count": 12,
   "id": "07832f0a",
   "metadata": {},
   "outputs": [
    {
     "data": {
      "text/html": [
       "<div>\n",
       "<style scoped>\n",
       "    .dataframe tbody tr th:only-of-type {\n",
       "        vertical-align: middle;\n",
       "    }\n",
       "\n",
       "    .dataframe tbody tr th {\n",
       "        vertical-align: top;\n",
       "    }\n",
       "\n",
       "    .dataframe thead th {\n",
       "        text-align: right;\n",
       "    }\n",
       "</style>\n",
       "<table border=\"1\" class=\"dataframe\">\n",
       "  <thead>\n",
       "    <tr style=\"text-align: right;\">\n",
       "      <th></th>\n",
       "      <th>student_id</th>\n",
       "      <th>student_name</th>\n",
       "      <th>grade</th>\n",
       "      <th>school_name</th>\n",
       "      <th>reading_score</th>\n",
       "      <th>math_score</th>\n",
       "      <th>school_type</th>\n",
       "    </tr>\n",
       "  </thead>\n",
       "  <tbody>\n",
       "    <tr>\n",
       "      <th>0</th>\n",
       "      <td>127008367</td>\n",
       "      <td>Sarah Douglas</td>\n",
       "      <td>11th</td>\n",
       "      <td>Chang High School</td>\n",
       "      <td>87.2</td>\n",
       "      <td>64.1</td>\n",
       "      <td>Public</td>\n",
       "    </tr>\n",
       "    <tr>\n",
       "      <th>1</th>\n",
       "      <td>33365505</td>\n",
       "      <td>Francisco Osborne</td>\n",
       "      <td>9th</td>\n",
       "      <td>Fisher High School</td>\n",
       "      <td>NaN</td>\n",
       "      <td>NaN</td>\n",
       "      <td>Public</td>\n",
       "    </tr>\n",
       "    <tr>\n",
       "      <th>2</th>\n",
       "      <td>44359500</td>\n",
       "      <td>Ryan Haas</td>\n",
       "      <td>12th</td>\n",
       "      <td>Campbell High School</td>\n",
       "      <td>91.6</td>\n",
       "      <td>54.7</td>\n",
       "      <td>Public</td>\n",
       "    </tr>\n",
       "    <tr>\n",
       "      <th>3</th>\n",
       "      <td>24791243</td>\n",
       "      <td>Kathryn Mack</td>\n",
       "      <td>11th</td>\n",
       "      <td>Richard High School</td>\n",
       "      <td>68.9</td>\n",
       "      <td>73.3</td>\n",
       "      <td>Charter</td>\n",
       "    </tr>\n",
       "    <tr>\n",
       "      <th>4</th>\n",
       "      <td>121467881</td>\n",
       "      <td>Harold Reynolds</td>\n",
       "      <td>12th</td>\n",
       "      <td>Chang High School</td>\n",
       "      <td>68.7</td>\n",
       "      <td>43.4</td>\n",
       "      <td>Public</td>\n",
       "    </tr>\n",
       "  </tbody>\n",
       "</table>\n",
       "</div>"
      ],
      "text/plain": [
       "   student_id       student_name grade           school_name  reading_score  \\\n",
       "0   127008367      Sarah Douglas  11th     Chang High School           87.2   \n",
       "1    33365505  Francisco Osborne   9th    Fisher High School            NaN   \n",
       "2    44359500          Ryan Haas  12th  Campbell High School           91.6   \n",
       "3    24791243       Kathryn Mack  11th   Richard High School           68.9   \n",
       "4   121467881    Harold Reynolds  12th     Chang High School           68.7   \n",
       "\n",
       "   math_score school_type  \n",
       "0        64.1      Public  \n",
       "1         NaN      Public  \n",
       "2        54.7      Public  \n",
       "3        73.3     Charter  \n",
       "4        43.4      Public  "
      ]
     },
     "execution_count": 12,
     "metadata": {},
     "output_type": "execute_result"
    }
   ],
   "source": [
    "student_df.head()"
   ]
  },
  {
   "cell_type": "code",
   "execution_count": 16,
   "id": "d5d606e0",
   "metadata": {},
   "outputs": [],
   "source": [
    "import pandas as pd\n",
    "import os"
   ]
  },
  {
   "cell_type": "code",
   "execution_count": null,
   "id": "33f167f9",
   "metadata": {},
   "outputs": [],
   "source": []
  }
 ],
 "metadata": {
  "kernelspec": {
   "display_name": "PythonData",
   "language": "python",
   "name": "pythondata"
  },
  "language_info": {
   "codemirror_mode": {
    "name": "ipython",
    "version": 3
   },
   "file_extension": ".py",
   "mimetype": "text/x-python",
   "name": "python",
   "nbconvert_exporter": "python",
   "pygments_lexer": "ipython3",
   "version": "3.9.13"
  }
 },
 "nbformat": 4,
 "nbformat_minor": 5
}
